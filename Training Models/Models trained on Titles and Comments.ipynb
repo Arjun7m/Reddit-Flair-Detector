{
 "cells": [
  {
   "cell_type": "markdown",
   "metadata": {},
   "source": [
    "## Importing Libraries"
   ]
  },
  {
   "cell_type": "code",
   "execution_count": 1,
   "metadata": {},
   "outputs": [],
   "source": [
    "import pandas as pd\n",
    "from sklearn.feature_extraction.text import TfidfVectorizer, CountVectorizer\n",
    "from sklearn.model_selection import train_test_split\n",
    "from sklearn.metrics import accuracy_score, confusion_matrix\n",
    "from sklearn.pipeline import Pipeline\n",
    "from sklearn.feature_extraction.text import TfidfTransformer\n",
    "from sklearn.metrics import classification_report\n",
    "import sklearn\n",
    "from sklearn.model_selection import GridSearchCV\n",
    "import matplotlib.pyplot as plt\n",
    "import joblib"
   ]
  },
  {
   "cell_type": "markdown",
   "metadata": {},
   "source": [
    "## Loading the pre-processed data"
   ]
  },
  {
   "cell_type": "code",
   "execution_count": 2,
   "metadata": {},
   "outputs": [],
   "source": [
    "data = pd.read_csv(\"pre_processed_data_with_top_comment_latest.csv\")"
   ]
  },
  {
   "cell_type": "code",
   "execution_count": 3,
   "metadata": {},
   "outputs": [],
   "source": [
    "flairs = [\"Non-Political\", \"Scheduled\", \"AskIndia\", \"Science/Technology\", \"Politics\",\n",
    "          \"Business/Finance\", \"Policy/Economy\", \"Sports\", \"Food\"]"
   ]
  },
  {
   "cell_type": "markdown",
   "metadata": {},
   "source": [
    "## Creating a column for combined text of Title and Comments"
   ]
  },
  {
   "cell_type": "code",
   "execution_count": 4,
   "metadata": {},
   "outputs": [
    {
     "data": {
      "text/html": [
       "<div>\n",
       "<style scoped>\n",
       "    .dataframe tbody tr th:only-of-type {\n",
       "        vertical-align: middle;\n",
       "    }\n",
       "\n",
       "    .dataframe tbody tr th {\n",
       "        vertical-align: top;\n",
       "    }\n",
       "\n",
       "    .dataframe thead th {\n",
       "        text-align: right;\n",
       "    }\n",
       "</style>\n",
       "<table border=\"1\" class=\"dataframe\">\n",
       "  <thead>\n",
       "    <tr style=\"text-align: right;\">\n",
       "      <th></th>\n",
       "      <th>flair</th>\n",
       "      <th>title</th>\n",
       "      <th>url</th>\n",
       "      <th>comms_num</th>\n",
       "      <th>body</th>\n",
       "      <th>author</th>\n",
       "      <th>comments</th>\n",
       "      <th>all_data</th>\n",
       "    </tr>\n",
       "  </thead>\n",
       "  <tbody>\n",
       "    <tr>\n",
       "      <td>0</td>\n",
       "      <td>Non-Political</td>\n",
       "      <td>indian state ut renamed country similar popula...</td>\n",
       "      <td>https://i.redd.it/hk9o11b8dun41.png</td>\n",
       "      <td>20</td>\n",
       "      <td>NaN</td>\n",
       "      <td>schadenfeuder</td>\n",
       "      <td>nice name uttar pradesh ajay bisht gonna happy...</td>\n",
       "      <td>indian state ut renamed country similar popula...</td>\n",
       "    </tr>\n",
       "    <tr>\n",
       "      <td>1</td>\n",
       "      <td>Non-Political</td>\n",
       "      <td>hotstar finally uploads sunday last week tonig...</td>\n",
       "      <td>https://www.hotstar.com/in/tv/last-week-tonigh...</td>\n",
       "      <td>12</td>\n",
       "      <td>NaN</td>\n",
       "      <td>TimeVendor</td>\n",
       "      <td>first turning internet entire state refusing b...</td>\n",
       "      <td>hotstar finally uploads sunday last week tonig...</td>\n",
       "    </tr>\n",
       "    <tr>\n",
       "      <td>2</td>\n",
       "      <td>Non-Political</td>\n",
       "      <td>best nonpolitical stand comedian</td>\n",
       "      <td>https://www.reddit.com/r/india/comments/g3zbrt...</td>\n",
       "      <td>9</td>\n",
       "      <td>thing related politics give anxiety recommend ...</td>\n",
       "      <td>daredevil005</td>\n",
       "      <td>abhishek upmanyu kenny sebastian biswa anubhav...</td>\n",
       "      <td>best nonpolitical stand comedianabhishek upman...</td>\n",
       "    </tr>\n",
       "    <tr>\n",
       "      <td>3</td>\n",
       "      <td>Non-Political</td>\n",
       "      <td>icse isc exam postponed due covid19 nonpolitical</td>\n",
       "      <td>https://cisce.org//UploadedFiles/PDF/COVID%201...</td>\n",
       "      <td>0</td>\n",
       "      <td>NaN</td>\n",
       "      <td>DSMalhotra</td>\n",
       "      <td>NaN</td>\n",
       "      <td>icse isc exam postponed due covid19 nonpolitical</td>\n",
       "    </tr>\n",
       "    <tr>\n",
       "      <td>4</td>\n",
       "      <td>Non-Political</td>\n",
       "      <td>nonpolitical friend wrote first book week givi...</td>\n",
       "      <td>https://www.reddit.com/r/india/comments/ezqw6i...</td>\n",
       "      <td>0</td>\n",
       "      <td>friend mine wrote first book music men volume ...</td>\n",
       "      <td>bitswreck</td>\n",
       "      <td>NaN</td>\n",
       "      <td>nonpolitical friend wrote first book week givi...</td>\n",
       "    </tr>\n",
       "  </tbody>\n",
       "</table>\n",
       "</div>"
      ],
      "text/plain": [
       "           flair                                              title  \\\n",
       "0  Non-Political  indian state ut renamed country similar popula...   \n",
       "1  Non-Political  hotstar finally uploads sunday last week tonig...   \n",
       "2  Non-Political                   best nonpolitical stand comedian   \n",
       "3  Non-Political   icse isc exam postponed due covid19 nonpolitical   \n",
       "4  Non-Political  nonpolitical friend wrote first book week givi...   \n",
       "\n",
       "                                                 url  comms_num  \\\n",
       "0                https://i.redd.it/hk9o11b8dun41.png         20   \n",
       "1  https://www.hotstar.com/in/tv/last-week-tonigh...         12   \n",
       "2  https://www.reddit.com/r/india/comments/g3zbrt...          9   \n",
       "3  https://cisce.org//UploadedFiles/PDF/COVID%201...          0   \n",
       "4  https://www.reddit.com/r/india/comments/ezqw6i...          0   \n",
       "\n",
       "                                                body         author  \\\n",
       "0                                                NaN  schadenfeuder   \n",
       "1                                                NaN     TimeVendor   \n",
       "2  thing related politics give anxiety recommend ...   daredevil005   \n",
       "3                                                NaN     DSMalhotra   \n",
       "4  friend mine wrote first book music men volume ...      bitswreck   \n",
       "\n",
       "                                            comments  \\\n",
       "0  nice name uttar pradesh ajay bisht gonna happy...   \n",
       "1  first turning internet entire state refusing b...   \n",
       "2  abhishek upmanyu kenny sebastian biswa anubhav...   \n",
       "3                                                NaN   \n",
       "4                                                NaN   \n",
       "\n",
       "                                            all_data  \n",
       "0  indian state ut renamed country similar popula...  \n",
       "1  hotstar finally uploads sunday last week tonig...  \n",
       "2  best nonpolitical stand comedianabhishek upman...  \n",
       "3   icse isc exam postponed due covid19 nonpolitical  \n",
       "4  nonpolitical friend wrote first book week givi...  "
      ]
     },
     "execution_count": 4,
     "metadata": {},
     "output_type": "execute_result"
    }
   ],
   "source": [
    "all_data = data[\"title\"].fillna('') + data[\"comments\"].fillna('')\n",
    "data = data.assign(all_data = all_data)\n",
    "data.head()"
   ]
  },
  {
   "cell_type": "markdown",
   "metadata": {},
   "source": [
    "## Multinomial Naive Bayes Model"
   ]
  },
  {
   "cell_type": "code",
   "execution_count": 5,
   "metadata": {},
   "outputs": [
    {
     "name": "stdout",
     "output_type": "stream",
     "text": [
      "Results of Naive Bayes Classifier\n",
      "accuracy 0.6274038461538461\n",
      "                    precision    recall  f1-score   support\n",
      "\n",
      "     Non-Political       0.62      0.55      0.58        51\n",
      "         Scheduled       0.44      0.76      0.55        45\n",
      "          AskIndia       0.62      0.81      0.71        43\n",
      "Science/Technology       0.89      0.37      0.52        43\n",
      "          Politics       0.62      0.49      0.55        53\n",
      "  Business/Finance       0.56      0.80      0.66        46\n",
      "    Policy/Economy       0.79      0.48      0.60        54\n",
      "            Sports       0.67      0.72      0.69        39\n",
      "              Food       0.86      0.74      0.79        42\n",
      "\n",
      "          accuracy                           0.63       416\n",
      "         macro avg       0.67      0.64      0.63       416\n",
      "      weighted avg       0.67      0.63      0.62       416\n",
      "\n"
     ]
    }
   ],
   "source": [
    "def mnb(X_train, X_test, y_train, y_test):\n",
    "  \n",
    "  from sklearn.naive_bayes import MultinomialNB\n",
    "\n",
    "  nb = Pipeline([('vect', CountVectorizer()),\n",
    "                 ('tfidf', TfidfTransformer()),\n",
    "                 ('clf', MultinomialNB()),\n",
    "                ])\n",
    "  nb.fit(X_train, y_train)\n",
    "\n",
    "  y_pred = nb.predict(X_test)\n",
    "\n",
    "  print('accuracy %s' % accuracy_score(y_pred, y_test))\n",
    "  print(classification_report(y_test, y_pred,target_names=flairs))\n",
    "\n",
    "def train_test_mnb(X,y):\n",
    " \n",
    "  X_train, X_test, y_train, y_test = train_test_split(X, y, test_size=0.20, random_state = 42)\n",
    "\n",
    "  print(\"Results of Naive Bayes Classifier\")\n",
    "  mnb(X_train, X_test, y_train, y_test)\n",
    "    \n",
    "train_test_mnb(data.all_data, data.flair)    "
   ]
  },
  {
   "cell_type": "markdown",
   "metadata": {},
   "source": [
    "#### MNB received accuracy of 62.74%"
   ]
  },
  {
   "cell_type": "markdown",
   "metadata": {},
   "source": [
    "## Support Vector Machine Model"
   ]
  },
  {
   "cell_type": "code",
   "execution_count": 6,
   "metadata": {},
   "outputs": [
    {
     "name": "stdout",
     "output_type": "stream",
     "text": [
      "Results of LSVM Classifier\n",
      "accuracy 0.6850961538461539\n",
      "                    precision    recall  f1-score   support\n",
      "\n",
      "     Non-Political       0.70      0.69      0.69        51\n",
      "         Scheduled       0.61      0.60      0.61        45\n",
      "          AskIndia       0.75      0.77      0.76        43\n",
      "Science/Technology       0.74      0.65      0.69        43\n",
      "          Politics       0.65      0.60      0.63        53\n",
      "  Business/Finance       0.54      0.67      0.60        46\n",
      "    Policy/Economy       0.80      0.69      0.74        54\n",
      "            Sports       0.67      0.74      0.71        39\n",
      "              Food       0.73      0.79      0.76        42\n",
      "\n",
      "          accuracy                           0.69       416\n",
      "         macro avg       0.69      0.69      0.69       416\n",
      "      weighted avg       0.69      0.69      0.69       416\n",
      "\n"
     ]
    }
   ],
   "source": [
    "def lsvm(X_train, X_test, y_train, y_test):\n",
    "  \n",
    "  from sklearn.linear_model import SGDClassifier\n",
    "\n",
    "  sgd = Pipeline([('vect', CountVectorizer()),\n",
    "                  ('tfidf', TfidfTransformer()),\n",
    "                  ('clf', SGDClassifier(loss='hinge', penalty='l2',alpha=0.001, random_state=42, max_iter=10, tol=None)),\n",
    "                 ])\n",
    "  sgd.fit(X_train, y_train)\n",
    "\n",
    "  y_pred = sgd.predict(X_test)\n",
    "\n",
    "  print('accuracy %s' % accuracy_score(y_pred, y_test))\n",
    "  print(classification_report(y_test, y_pred,target_names=flairs))\n",
    "\n",
    "def train_test_lsvm(X,y):\n",
    " \n",
    "  X_train, X_test, y_train, y_test = train_test_split(X, y, test_size=0.20, random_state = 42)\n",
    "\n",
    "  print(\"Results of LSVM Classifier\")\n",
    "  lsvm(X_train, X_test, y_train, y_test)\n",
    "    \n",
    "train_test_lsvm(data.all_data, data.flair)  "
   ]
  },
  {
   "cell_type": "markdown",
   "metadata": {},
   "source": [
    "#### LSVM received accuracy of 68.50%"
   ]
  },
  {
   "cell_type": "markdown",
   "metadata": {},
   "source": [
    "## Logistic Regression Model"
   ]
  },
  {
   "cell_type": "code",
   "execution_count": 7,
   "metadata": {},
   "outputs": [
    {
     "name": "stdout",
     "output_type": "stream",
     "text": [
      "Results of Logistic Regression\n"
     ]
    },
    {
     "name": "stderr",
     "output_type": "stream",
     "text": [
      "C:\\Users\\hp\\Anaconda3\\lib\\site-packages\\sklearn\\linear_model\\logistic.py:432: FutureWarning: Default solver will be changed to 'lbfgs' in 0.22. Specify a solver to silence this warning.\n",
      "  FutureWarning)\n",
      "C:\\Users\\hp\\Anaconda3\\lib\\site-packages\\sklearn\\linear_model\\logistic.py:469: FutureWarning: Default multi_class will be changed to 'auto' in 0.22. Specify the multi_class option to silence this warning.\n",
      "  \"this warning.\", FutureWarning)\n"
     ]
    },
    {
     "name": "stdout",
     "output_type": "stream",
     "text": [
      "accuracy 0.6706730769230769\n",
      "                    precision    recall  f1-score   support\n",
      "\n",
      "     Non-Political       0.61      0.69      0.65        51\n",
      "         Scheduled       0.55      0.62      0.58        45\n",
      "          AskIndia       0.82      0.74      0.78        43\n",
      "Science/Technology       0.79      0.60      0.68        43\n",
      "          Politics       0.61      0.58      0.60        53\n",
      "  Business/Finance       0.56      0.70      0.62        46\n",
      "    Policy/Economy       0.68      0.63      0.65        54\n",
      "            Sports       0.74      0.74      0.74        39\n",
      "              Food       0.82      0.76      0.79        42\n",
      "\n",
      "          accuracy                           0.67       416\n",
      "         macro avg       0.69      0.67      0.68       416\n",
      "      weighted avg       0.68      0.67      0.67       416\n",
      "\n"
     ]
    }
   ],
   "source": [
    "def logisticreg(X_train, X_test, y_train, y_test):\n",
    "    from sklearn.linear_model import LogisticRegression\n",
    "\n",
    "    logreg = Pipeline([('vect', CountVectorizer()),\n",
    "                  ('tfidf', TfidfTransformer()),\n",
    "                  ('clf', LogisticRegression(n_jobs=1, C=1e5)),\n",
    "                 ])\n",
    "    logreg.fit(X_train, y_train)\n",
    "\n",
    "    y_pred = logreg.predict(X_test)\n",
    "\n",
    "    print('accuracy %s' % accuracy_score(y_pred, y_test))\n",
    "    print(classification_report(y_test, y_pred,target_names=flairs))\n",
    "    \n",
    "def train_test_logisticreg(X,y):\n",
    " \n",
    "    X_train, X_test, y_train, y_test = train_test_split(X, y, test_size=0.20, random_state = 42)\n",
    "    print(\"Results of Logistic Regression\")\n",
    "    logisticreg(X_train, X_test, y_train, y_test)\n",
    "    \n",
    "train_test_logisticreg(data.all_data, data.flair)    "
   ]
  },
  {
   "cell_type": "markdown",
   "metadata": {},
   "source": [
    "#### Logistic Regression received accuracy of 67.06%"
   ]
  },
  {
   "cell_type": "markdown",
   "metadata": {},
   "source": [
    "## Random Forest Model"
   ]
  },
  {
   "cell_type": "code",
   "execution_count": 8,
   "metadata": {},
   "outputs": [
    {
     "name": "stdout",
     "output_type": "stream",
     "text": [
      "Results of Random Forest\n",
      "accuracy 0.7091346153846154\n",
      "                    precision    recall  f1-score   support\n",
      "\n",
      "     Non-Political       0.77      0.71      0.73        51\n",
      "         Scheduled       0.69      0.64      0.67        45\n",
      "          AskIndia       0.77      0.77      0.77        43\n",
      "Science/Technology       0.80      0.77      0.79        43\n",
      "          Politics       0.68      0.57      0.62        53\n",
      "  Business/Finance       0.54      0.80      0.65        46\n",
      "    Policy/Economy       0.78      0.65      0.71        54\n",
      "            Sports       0.76      0.74      0.75        39\n",
      "              Food       0.69      0.79      0.73        42\n",
      "\n",
      "          accuracy                           0.71       416\n",
      "         macro avg       0.72      0.71      0.71       416\n",
      "      weighted avg       0.72      0.71      0.71       416\n",
      "\n"
     ]
    }
   ],
   "source": [
    "def randomforest(X_train, X_test, y_train, y_test):\n",
    "  \n",
    "  from sklearn.ensemble import RandomForestClassifier\n",
    "  \n",
    "  rf = Pipeline([('vect', CountVectorizer()),\n",
    "                  ('tfidf', TfidfTransformer()),\n",
    "                  ('clf', RandomForestClassifier(n_estimators = 2000, max_depth = 70, max_features = 'auto', \n",
    "                   bootstrap = True, random_state = 42)),\n",
    "                 ])\n",
    "  rf.fit(X_train, y_train)\n",
    "\n",
    "  y_pred = rf.predict(X_test)\n",
    "\n",
    "  print('accuracy %s' % accuracy_score(y_pred, y_test))\n",
    "  print(classification_report(y_test, y_pred,target_names=flairs))   \n",
    "    \n",
    "def train_test_rf(X,y):\n",
    " \n",
    "  X_train, X_test, y_train, y_test = train_test_split(X, y, test_size=0.20, random_state = 42)\n",
    "\n",
    "  print(\"Results of Random Forest\")\n",
    "  randomforest(X_train, X_test, y_train, y_test)\n",
    "    \n",
    "train_test_rf(data.all_data, data.flair) "
   ]
  },
  {
   "cell_type": "markdown",
   "metadata": {},
   "source": [
    "#### Random Forest received accuracy of 70.91%"
   ]
  }
 ],
 "metadata": {
  "kernelspec": {
   "display_name": "Python 3",
   "language": "python",
   "name": "python3"
  },
  "language_info": {
   "codemirror_mode": {
    "name": "ipython",
    "version": 3
   },
   "file_extension": ".py",
   "mimetype": "text/x-python",
   "name": "python",
   "nbconvert_exporter": "python",
   "pygments_lexer": "ipython3",
   "version": "3.7.4"
  }
 },
 "nbformat": 4,
 "nbformat_minor": 2
}
