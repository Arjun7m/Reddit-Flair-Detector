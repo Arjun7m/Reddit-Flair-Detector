{
 "cells": [
  {
   "cell_type": "markdown",
   "metadata": {},
   "source": [
    "## Importing Libraries"
   ]
  },
  {
   "cell_type": "code",
   "execution_count": 1,
   "metadata": {},
   "outputs": [],
   "source": [
    "import pandas as pd\n",
    "from sklearn.feature_extraction.text import TfidfVectorizer, CountVectorizer\n",
    "from sklearn.model_selection import train_test_split\n",
    "from sklearn.metrics import accuracy_score, confusion_matrix\n",
    "from sklearn.pipeline import Pipeline\n",
    "from sklearn.feature_extraction.text import TfidfTransformer\n",
    "from sklearn.metrics import classification_report\n",
    "import sklearn\n",
    "from sklearn.model_selection import GridSearchCV\n",
    "import matplotlib.pyplot as plt\n",
    "import joblib\n",
    "import seaborn as sns\n",
    "import pickle"
   ]
  },
  {
   "cell_type": "markdown",
   "metadata": {},
   "source": [
    "## Loading the pre-processed data"
   ]
  },
  {
   "cell_type": "code",
   "execution_count": 2,
   "metadata": {},
   "outputs": [],
   "source": [
    "data = pd.read_csv(\"pre_processed_data.csv\")"
   ]
  },
  {
   "cell_type": "code",
   "execution_count": 3,
   "metadata": {},
   "outputs": [],
   "source": [
    "flairs = [\"Non-Political\", \"Scheduled\", \"AskIndia\", \"Science/Technology\", \"Politics\",\n",
    "          \"Business/Finance\", \"Policy/Economy\", \"Sports\", \"Food\"]"
   ]
  },
  {
   "cell_type": "markdown",
   "metadata": {},
   "source": [
    "## Creating a column for combined text of Title, Body and Comments"
   ]
  },
  {
   "cell_type": "code",
   "execution_count": 4,
   "metadata": {},
   "outputs": [
    {
     "data": {
      "text/html": [
       "<div>\n",
       "<style scoped>\n",
       "    .dataframe tbody tr th:only-of-type {\n",
       "        vertical-align: middle;\n",
       "    }\n",
       "\n",
       "    .dataframe tbody tr th {\n",
       "        vertical-align: top;\n",
       "    }\n",
       "\n",
       "    .dataframe thead th {\n",
       "        text-align: right;\n",
       "    }\n",
       "</style>\n",
       "<table border=\"1\" class=\"dataframe\">\n",
       "  <thead>\n",
       "    <tr style=\"text-align: right;\">\n",
       "      <th></th>\n",
       "      <th>flair</th>\n",
       "      <th>title</th>\n",
       "      <th>url</th>\n",
       "      <th>comms_num</th>\n",
       "      <th>body</th>\n",
       "      <th>author</th>\n",
       "      <th>comments</th>\n",
       "      <th>all_data</th>\n",
       "    </tr>\n",
       "  </thead>\n",
       "  <tbody>\n",
       "    <tr>\n",
       "      <td>0</td>\n",
       "      <td>Non-Political</td>\n",
       "      <td>indian state ut renamed country similar popula...</td>\n",
       "      <td>https://i.redd.it/hk9o11b8dun41.png</td>\n",
       "      <td>20</td>\n",
       "      <td>NaN</td>\n",
       "      <td>schadenfeuder</td>\n",
       "      <td>nice name uttar pradesh ajay bisht gonna happy...</td>\n",
       "      <td>indian state ut renamed country similar popula...</td>\n",
       "    </tr>\n",
       "    <tr>\n",
       "      <td>1</td>\n",
       "      <td>Non-Political</td>\n",
       "      <td>hotstar finally uploads sunday last week tonig...</td>\n",
       "      <td>https://www.hotstar.com/in/tv/last-week-tonigh...</td>\n",
       "      <td>12</td>\n",
       "      <td>NaN</td>\n",
       "      <td>TimeVendor</td>\n",
       "      <td>first turning internet entire state refusing b...</td>\n",
       "      <td>hotstar finally uploads sunday last week tonig...</td>\n",
       "    </tr>\n",
       "    <tr>\n",
       "      <td>2</td>\n",
       "      <td>Non-Political</td>\n",
       "      <td>icse isc exam postponed due covid19 nonpolitical</td>\n",
       "      <td>https://cisce.org//UploadedFiles/PDF/COVID%201...</td>\n",
       "      <td>0</td>\n",
       "      <td>NaN</td>\n",
       "      <td>DSMalhotra</td>\n",
       "      <td>NaN</td>\n",
       "      <td>icse isc exam postponed due covid19 nonpolitical</td>\n",
       "    </tr>\n",
       "    <tr>\n",
       "      <td>3</td>\n",
       "      <td>Non-Political</td>\n",
       "      <td>nonpolitical friend wrote first book week givi...</td>\n",
       "      <td>https://www.reddit.com/r/india/comments/ezqw6i...</td>\n",
       "      <td>0</td>\n",
       "      <td>friend mine wrote first book music men volume ...</td>\n",
       "      <td>bitswreck</td>\n",
       "      <td>NaN</td>\n",
       "      <td>nonpolitical friend wrote first book week givi...</td>\n",
       "    </tr>\n",
       "    <tr>\n",
       "      <td>4</td>\n",
       "      <td>Non-Political</td>\n",
       "      <td>nonpolitical wild karnataka david attenborough...</td>\n",
       "      <td>https://youtu.be/gHSVLd4Ao60</td>\n",
       "      <td>1</td>\n",
       "      <td>NaN</td>\n",
       "      <td>sec2aux89</td>\n",
       "      <td>real david attenborough voice video</td>\n",
       "      <td>nonpolitical wild karnataka david attenborough...</td>\n",
       "    </tr>\n",
       "  </tbody>\n",
       "</table>\n",
       "</div>"
      ],
      "text/plain": [
       "           flair                                              title  \\\n",
       "0  Non-Political  indian state ut renamed country similar popula...   \n",
       "1  Non-Political  hotstar finally uploads sunday last week tonig...   \n",
       "2  Non-Political   icse isc exam postponed due covid19 nonpolitical   \n",
       "3  Non-Political  nonpolitical friend wrote first book week givi...   \n",
       "4  Non-Political  nonpolitical wild karnataka david attenborough...   \n",
       "\n",
       "                                                 url  comms_num  \\\n",
       "0                https://i.redd.it/hk9o11b8dun41.png         20   \n",
       "1  https://www.hotstar.com/in/tv/last-week-tonigh...         12   \n",
       "2  https://cisce.org//UploadedFiles/PDF/COVID%201...          0   \n",
       "3  https://www.reddit.com/r/india/comments/ezqw6i...          0   \n",
       "4                       https://youtu.be/gHSVLd4Ao60          1   \n",
       "\n",
       "                                                body         author  \\\n",
       "0                                                NaN  schadenfeuder   \n",
       "1                                                NaN     TimeVendor   \n",
       "2                                                NaN     DSMalhotra   \n",
       "3  friend mine wrote first book music men volume ...      bitswreck   \n",
       "4                                                NaN      sec2aux89   \n",
       "\n",
       "                                            comments  \\\n",
       "0  nice name uttar pradesh ajay bisht gonna happy...   \n",
       "1  first turning internet entire state refusing b...   \n",
       "2                                                NaN   \n",
       "3                                                NaN   \n",
       "4                real david attenborough voice video   \n",
       "\n",
       "                                            all_data  \n",
       "0  indian state ut renamed country similar popula...  \n",
       "1  hotstar finally uploads sunday last week tonig...  \n",
       "2   icse isc exam postponed due covid19 nonpolitical  \n",
       "3  nonpolitical friend wrote first book week givi...  \n",
       "4  nonpolitical wild karnataka david attenborough...  "
      ]
     },
     "execution_count": 4,
     "metadata": {},
     "output_type": "execute_result"
    }
   ],
   "source": [
    "all_data = data[\"title\"].fillna('') + data[\"body\"].fillna('') + data[\"comments\"].fillna('')\n",
    "data = data.assign(all_data = all_data)\n",
    "data.head()"
   ]
  },
  {
   "cell_type": "markdown",
   "metadata": {},
   "source": [
    "## Linear Support Vector Machine Model"
   ]
  },
  {
   "cell_type": "code",
   "execution_count": 12,
   "metadata": {
    "scrolled": false
   },
   "outputs": [
    {
     "name": "stdout",
     "output_type": "stream",
     "text": [
      "Results of Linear SVM\n",
      "accuracy 0.7242206235011991\n",
      "                    precision    recall  f1-score   support\n",
      "\n",
      "     Non-Political       0.65      0.59      0.62        44\n",
      "         Scheduled       0.69      0.78      0.73        40\n",
      "          AskIndia       0.76      0.80      0.78        46\n",
      "Science/Technology       0.82      0.64      0.72        44\n",
      "          Politics       0.69      0.70      0.69        50\n",
      "  Business/Finance       0.58      0.81      0.68        52\n",
      "    Policy/Economy       0.82      0.69      0.75        58\n",
      "            Sports       0.74      0.78      0.76        36\n",
      "              Food       0.90      0.74      0.81        47\n",
      "\n",
      "          accuracy                           0.72       417\n",
      "         macro avg       0.74      0.73      0.73       417\n",
      "      weighted avg       0.74      0.72      0.73       417\n",
      "\n"
     ]
    }
   ],
   "source": [
    "def lsvm(X_train, X_test, y_train, y_test):\n",
    "    \n",
    "    from sklearn.model_selection import GridSearchCV\n",
    "    from sklearn.linear_model import SGDClassifier\n",
    "\n",
    "    lsvm = Pipeline([('vect', CountVectorizer()),\n",
    "                       ('tfidf', TfidfTransformer()),\n",
    "                       ('clf', SGDClassifier()),\n",
    "                        ])\n",
    "    \n",
    "    lsvm.fit(X_train, y_train)\n",
    "\n",
    "    y_pred = lsvm.predict(X_test)\n",
    "\n",
    "    print('accuracy %s' % accuracy_score(y_pred, y_test))\n",
    "    print(classification_report(y_test, y_pred,target_names=flairs))\n",
    "\n",
    "def train_test_lsvm(X,y):\n",
    " \n",
    "    X_train, X_test, y_train, y_test = train_test_split(X, y, test_size=0.20, random_state = 42)\n",
    "    print(\"Results of Linear SVM\")\n",
    "    lsvm(X_train, X_test, y_train, y_test)\n",
    "    \n",
    "train_test_lsvm(data.all_data, data.flair)  "
   ]
  },
  {
   "cell_type": "markdown",
   "metadata": {},
   "source": [
    "#### LSVM achieved accuracy of 72.42%, as compared to 77.16% with Top Comments."
   ]
  },
  {
   "cell_type": "markdown",
   "metadata": {},
   "source": [
    "## Logistic Regression Model"
   ]
  },
  {
   "cell_type": "code",
   "execution_count": 7,
   "metadata": {},
   "outputs": [
    {
     "name": "stdout",
     "output_type": "stream",
     "text": [
      "Results of Logistic Regression\n"
     ]
    },
    {
     "name": "stderr",
     "output_type": "stream",
     "text": [
      "C:\\Users\\hp\\Anaconda3\\lib\\site-packages\\sklearn\\linear_model\\logistic.py:432: FutureWarning: Default solver will be changed to 'lbfgs' in 0.22. Specify a solver to silence this warning.\n",
      "  FutureWarning)\n",
      "C:\\Users\\hp\\Anaconda3\\lib\\site-packages\\sklearn\\linear_model\\logistic.py:469: FutureWarning: Default multi_class will be changed to 'auto' in 0.22. Specify the multi_class option to silence this warning.\n",
      "  \"this warning.\", FutureWarning)\n"
     ]
    },
    {
     "name": "stdout",
     "output_type": "stream",
     "text": [
      "accuracy 0.7194244604316546\n",
      "                    precision    recall  f1-score   support\n",
      "\n",
      "     Non-Political       0.60      0.61      0.61        44\n",
      "         Scheduled       0.68      0.75      0.71        40\n",
      "          AskIndia       0.76      0.80      0.78        46\n",
      "Science/Technology       0.82      0.64      0.72        44\n",
      "          Politics       0.65      0.68      0.67        50\n",
      "  Business/Finance       0.58      0.81      0.68        52\n",
      "    Policy/Economy       0.84      0.71      0.77        58\n",
      "            Sports       0.75      0.75      0.75        36\n",
      "              Food       0.94      0.72      0.82        47\n",
      "\n",
      "          accuracy                           0.72       417\n",
      "         macro avg       0.74      0.72      0.72       417\n",
      "      weighted avg       0.74      0.72      0.72       417\n",
      "\n"
     ]
    }
   ],
   "source": [
    "def logisticreg(X_train, X_test, y_train, y_test):\n",
    "    from sklearn.linear_model import LogisticRegression\n",
    "\n",
    "    logreg = Pipeline([('vect', CountVectorizer()),\n",
    "                  ('tfidf', TfidfTransformer()),\n",
    "                  ('clf', LogisticRegression(n_jobs=1, C=1e5)),\n",
    "                 ])\n",
    "    logreg.fit(X_train, y_train)\n",
    "\n",
    "    y_pred = logreg.predict(X_test)\n",
    "\n",
    "    print('accuracy %s' % accuracy_score(y_pred, y_test))\n",
    "    print(classification_report(y_test, y_pred,target_names=flairs))\n",
    "    \n",
    "def train_test_logisticreg(X,y):\n",
    " \n",
    "    X_train, X_test, y_train, y_test = train_test_split(X, y, test_size=0.20, random_state = 42)\n",
    "    print(\"Results of Logistic Regression\")\n",
    "    logisticreg(X_train, X_test, y_train, y_test)\n",
    "    \n",
    "train_test_logisticreg(data.all_data, data.flair)   "
   ]
  },
  {
   "cell_type": "markdown",
   "metadata": {},
   "source": [
    "#### Logistic Regression achieved accuracy of 71.94%, as compared to 75.96% with Top Comments."
   ]
  },
  {
   "cell_type": "markdown",
   "metadata": {},
   "source": [
    "## Multinomial Naive Bayes Model"
   ]
  },
  {
   "cell_type": "code",
   "execution_count": 9,
   "metadata": {},
   "outputs": [
    {
     "name": "stdout",
     "output_type": "stream",
     "text": [
      "Results of Naive Bayes Classifier\n",
      "accuracy 0.5782747603833865\n",
      "                    precision    recall  f1-score   support\n",
      "\n",
      "     Non-Political       0.44      0.52      0.47        33\n",
      "         Scheduled       0.33      0.90      0.48        30\n",
      "          AskIndia       0.59      0.73      0.66        30\n",
      "Science/Technology       1.00      0.13      0.24        30\n",
      "          Politics       0.80      0.48      0.60        42\n",
      "  Business/Finance       0.53      0.89      0.67        37\n",
      "    Policy/Economy       0.86      0.42      0.56        43\n",
      "            Sports       0.91      0.67      0.77        30\n",
      "              Food       0.95      0.53      0.68        38\n",
      "\n",
      "          accuracy                           0.58       313\n",
      "         macro avg       0.71      0.58      0.57       313\n",
      "      weighted avg       0.72      0.58      0.57       313\n",
      "\n"
     ]
    }
   ],
   "source": [
    "def mnb(X_train, X_test, y_train, y_test):\n",
    "  \n",
    "  from sklearn.naive_bayes import MultinomialNB\n",
    "\n",
    "  nb = Pipeline([('vect', CountVectorizer()),\n",
    "                 ('tfidf', TfidfTransformer()),\n",
    "                 ('clf', MultinomialNB()),\n",
    "                ])\n",
    "  nb.fit(X_train, y_train)\n",
    "\n",
    "  y_pred = nb.predict(X_test)\n",
    "\n",
    "  print('accuracy %s' % accuracy_score(y_pred, y_test))\n",
    "  print(classification_report(y_test, y_pred,target_names=flairs))\n",
    "\n",
    "def train_test_mnb(X,y):\n",
    " \n",
    "  X_train, X_test, y_train, y_test = train_test_split(X, y, test_size=0.15, random_state = 42)\n",
    "\n",
    "  print(\"Results of Naive Bayes Classifier\")\n",
    "  mnb(X_train, X_test, y_train, y_test)\n",
    "    \n",
    "train_test_mnb(data.all_data, data.flair)  "
   ]
  },
  {
   "cell_type": "markdown",
   "metadata": {},
   "source": [
    "#### MNB achieved accuracy of 57.82%, as compared to 61.85% with Top Comments."
   ]
  },
  {
   "cell_type": "markdown",
   "metadata": {},
   "source": [
    "## Random Forest Model"
   ]
  },
  {
   "cell_type": "code",
   "execution_count": 13,
   "metadata": {},
   "outputs": [
    {
     "name": "stdout",
     "output_type": "stream",
     "text": [
      "Results of Random Forest\n",
      "accuracy 0.7697841726618705\n",
      "                    precision    recall  f1-score   support\n",
      "\n",
      "     Non-Political       0.68      0.68      0.68        44\n",
      "         Scheduled       0.66      0.88      0.75        40\n",
      "          AskIndia       0.75      0.87      0.81        46\n",
      "Science/Technology       0.83      0.77      0.80        44\n",
      "          Politics       0.79      0.68      0.73        50\n",
      "  Business/Finance       0.72      0.85      0.78        52\n",
      "    Policy/Economy       0.93      0.67      0.78        58\n",
      "            Sports       0.73      0.89      0.80        36\n",
      "              Food       0.92      0.70      0.80        47\n",
      "\n",
      "          accuracy                           0.77       417\n",
      "         macro avg       0.78      0.78      0.77       417\n",
      "      weighted avg       0.79      0.77      0.77       417\n",
      "\n"
     ]
    },
    {
     "data": {
      "image/png": "[encoded data removed]",
      "text/plain": [
       "<Figure size 648x648 with 2 Axes>"
      ]
     },
     "metadata": {
      "needs_background": "light"
     },
     "output_type": "display_data"
    }
   ],
   "source": [
    "def randomforest(X_train, X_test, y_train, y_test):\n",
    "  \n",
    "  from sklearn.ensemble import RandomForestClassifier\n",
    "  \n",
    "  rf = Pipeline([('vect', CountVectorizer()),\n",
    "                  ('tfidf', TfidfTransformer()),\n",
    "                  ('clf', RandomForestClassifier(n_estimators = 1000, random_state = 42)),\n",
    "                 ])\n",
    "  rf.fit(X_train, y_train)\n",
    "\n",
    "  y_pred = rf.predict(X_test)\n",
    "\n",
    "  print('accuracy %s' % accuracy_score(y_pred, y_test))\n",
    "  print(classification_report(y_test, y_pred,target_names=flairs))\n",
    "    \n",
    "  from sklearn.metrics import confusion_matrix\n",
    "  conf_mat = confusion_matrix(y_test, y_pred)\n",
    "  fig, ax = plt.subplots(figsize=(9,9))\n",
    "  sns.heatmap(conf_mat, annot=True, fmt='d',\n",
    "              xticklabels=flairs, yticklabels=flairs)\n",
    "  plt.ylabel('Actual')\n",
    "  plt.xlabel('Predicted')\n",
    "  plt.show()  \n",
    "    \n",
    "def train_test_rf(X,y):\n",
    " \n",
    "  X_train, X_test, y_train, y_test = train_test_split(X, y, test_size=0.20, random_state = 42)\n",
    "\n",
    "  print(\"Results of Random Forest\")\n",
    "  randomforest(X_train, X_test, y_train, y_test)\n",
    "    \n",
    "train_test_rf(data.all_data, data.flair)      "
   ]
  },
  {
   "cell_type": "markdown",
   "metadata": {},
   "source": [
    "#### Random Forest model has achieved accuracy of 76.97%, as compared to 79.80% with Top Comments."
   ]
  },
  {
   "cell_type": "markdown",
   "metadata": {},
   "source": [
    "#### The confusion matrix for the Random Forest model shows that the model, having been trained on data consisting of Title, Body and All Top-Level (comments which are replies to the post itself, not to other comments), is more likely to get confused in deciding between 2 or more flairs, as compared to a model trained on Title, Body and the 3 Top Comments rated for the Reddit post, as the training data tends to get diluted as more and more common top uni-grams and bi-grams emerge between flairs, hence leading to decreased accuracy.\n",
    "##### Note: For the confusion matrix using top 3 comments instead of top comments, please visit the Final Model notebook."
   ]
  }
 ],
 "metadata": {
  "kernelspec": {
   "display_name": "Python 3",
   "language": "python",
   "name": "python3"
  },
  "language_info": {
   "codemirror_mode": {
    "name": "ipython",
    "version": 3
   },
   "file_extension": ".py",
   "mimetype": "text/x-python",
   "name": "python",
   "nbconvert_exporter": "python",
   "pygments_lexer": "ipython3",
   "version": "3.7.4"
  }
 },
 "nbformat": 4,
 "nbformat_minor": 2
}
