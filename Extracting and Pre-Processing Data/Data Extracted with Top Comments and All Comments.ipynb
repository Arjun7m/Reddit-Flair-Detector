{
 "cells": [
  {
   "cell_type": "markdown",
   "metadata": {},
   "source": [
    "## Importing Libraries for Data Extraction"
   ]
  },
  {
   "cell_type": "code",
   "execution_count": 14,
   "metadata": {},
   "outputs": [],
   "source": [
    "import praw\n",
    "import pandas as pd"
   ]
  },
  {
   "cell_type": "markdown",
   "metadata": {},
   "source": [
    "## Connecting to Reddit API using User Credentials"
   ]
  },
  {
   "cell_type": "code",
   "execution_count": 15,
   "metadata": {},
   "outputs": [],
   "source": [
    "cid = '#'\n",
    "csecret = '#'\n",
    "user_agent = '#'\n",
    "user = '#'\n",
    "pw = '#'\n",
    "reddit = praw.Reddit(client_id=cid, client_secret=csecret, user_agent=user_agent, username=user, password=pw)"
   ]
  },
  {
   "cell_type": "markdown",
   "metadata": {},
   "source": [
    "## Initialising Variables"
   ]
  },
  {
   "cell_type": "code",
   "execution_count": 16,
   "metadata": {},
   "outputs": [],
   "source": [
    "flairs = [\"Non-Political\", \"Scheduled\", \"AskIndia\", \"Science/Technology\", \"Politics\",\n",
    "          \"Business/Finance\", \"Policy/Economy\", \"Sports\", \"Food\"]\n",
    "\n",
    "sub = reddit.subreddit('india')\n",
    "\n",
    "col = {\"flair\":[], \"title\":[], \"url\":[], \"comms_num\": [], \"body\":[], \"author\":[], \"comments\":[]}"
   ]
  },
  {
   "cell_type": "markdown",
   "metadata": {},
   "source": [
    "## Extracting Data from Reddit India and Storing in .csv file\n",
    "\n",
    "### For each post having comments, the first 3 top-level comments are extracted from the top sorted comment forest\n",
    "\n",
    "### The data extracted is stored in a .csv file for further use"
   ]
  },
  {
   "cell_type": "code",
   "execution_count": 17,
   "metadata": {},
   "outputs": [],
   "source": [
    "for flair in flairs:\n",
    "  \n",
    "  get_sub = sub.search(flair, limit=400)\n",
    "  \n",
    "  for submission in get_sub:\n",
    "    \n",
    "    col[\"flair\"].append(flair)\n",
    "    col[\"title\"].append(submission.title)\n",
    "    col[\"url\"].append(submission.url)\n",
    "    col[\"comms_num\"].append(submission.num_comments)\n",
    "    col[\"body\"].append(submission.selftext)\n",
    "    col[\"author\"].append(submission.author)\n",
    "    submission.comment_sort = \"top\"\n",
    "    comments = submission.comments\n",
    "    comm = ''\n",
    "    i = 0\n",
    "    for comment in comments:\n",
    "        comm = comm + \" \" + comment.body\n",
    "        i = i + 1\n",
    "        if i>=3:\n",
    "            break\n",
    "    col[\"comments\"].append(comm)\n",
    "    \n",
    "    \"\"\"\n",
    "    For extracting data with all top-level(replies to the post itself, not to a comment) comments\n",
    "    \n",
    "    col[\"flair\"].append(flair)\n",
    "    col[\"title\"].append(submission.title)\n",
    "    col[\"url\"].append(submission.url)\n",
    "    col[\"comms_num\"].append(submission.num_comments)\n",
    "    col[\"body\"].append(submission.selftext)\n",
    "    col[\"author\"].append(submission.author)\n",
    "    submission.comments.replace_more(limit=0)\n",
    "    comm = ''\n",
    "    for comment in submission.comments:\n",
    "      comm = comm + ' ' + comment.body\n",
    "    col[\"comments\"].append(comm)\n",
    "    \"\"\"\n",
    "    \n",
    "data = pd.DataFrame(col)\n",
    "data.to_csv('r_india_with_top_comment.csv', index=False)"
   ]
  },
  {
   "cell_type": "code",
   "execution_count": null,
   "metadata": {},
   "outputs": [],
   "source": []
  }
 ],
 "metadata": {
  "kernelspec": {
   "display_name": "Python 3",
   "language": "python",
   "name": "python3"
  },
  "language_info": {
   "codemirror_mode": {
    "name": "ipython",
    "version": 3
   },
   "file_extension": ".py",
   "mimetype": "text/x-python",
   "name": "python",
   "nbconvert_exporter": "python",
   "pygments_lexer": "ipython3",
   "version": "3.7.4"
  }
 },
 "nbformat": 4,
 "nbformat_minor": 2
}
